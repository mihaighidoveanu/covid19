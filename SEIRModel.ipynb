{
 "cells": [
  {
   "cell_type": "code",
   "execution_count": 1,
   "metadata": {},
   "outputs": [],
   "source": [
    "import numpy as np\n",
    "import matplotlib.pyplot as plt\n",
    "import pandas as pd\n",
    "import main\n",
    "from scipy.integrate import odeint"
   ]
  },
  {
   "cell_type": "markdown",
   "metadata": {},
   "source": [
    "### Data Preprocessing"
   ]
  },
  {
   "cell_type": "markdown",
   "metadata": {},
   "source": [
    "Data from https://data.europa.eu/euodp/en/data/dataset/covid-19-coronavirus-data/resource/260bbbde-2316-40eb-aec3-7cd7bfc2f590"
   ]
  },
  {
   "cell_type": "code",
   "execution_count": 2,
   "metadata": {},
   "outputs": [],
   "source": [
    "data = main.getdata('data/timeseries25May.csv')"
   ]
  },
  {
   "cell_type": "code",
   "execution_count": 3,
   "metadata": {},
   "outputs": [],
   "source": [
    "data = data.loc[data['country'].isin(['Netherlands', 'Belgium', 'Italy', 'Sweden', 'Denmark', 'Norway', 'Spain', 'United_Kingdom', 'Germany', 'Romania'])]"
   ]
  },
  {
   "cell_type": "code",
   "execution_count": 4,
   "metadata": {},
   "outputs": [
    {
     "data": {
      "text/plain": [
       "10"
      ]
     },
     "execution_count": 4,
     "metadata": {},
     "output_type": "execute_result"
    }
   ],
   "source": [
    "len(data['country'].unique())"
   ]
  },
  {
   "cell_type": "markdown",
   "metadata": {},
   "source": [
    "Check for missing data"
   ]
  },
  {
   "cell_type": "code",
   "execution_count": 5,
   "metadata": {},
   "outputs": [],
   "source": [
    "datelist = [date for date in pd.date_range(start='2019-12-31', end='2020-05-25') if len(data.loc[data['date'] == date]) != 10]"
   ]
  },
  {
   "cell_type": "code",
   "execution_count": 6,
   "metadata": {},
   "outputs": [],
   "source": [
    "missing = [[(country, date.ctime()) for country in ['Netherlands', 'Belgium', 'Italy', 'Sweden', 'Denmark', 'Norway', 'Spain', 'United_Kingdom', 'Germany', 'Romania'] if country not in list(data.loc[data['date'] == date]['country'].values)] for date in datelist]"
   ]
  },
  {
   "cell_type": "code",
   "execution_count": 7,
   "metadata": {},
   "outputs": [
    {
     "data": {
      "text/plain": [
       "[[('Romania', 'Tue Mar  3 00:00:00 2020')],\n",
       " [('Romania', 'Thu Mar  5 00:00:00 2020')],\n",
       " [('Spain', 'Mon May 25 00:00:00 2020')]]"
      ]
     },
     "execution_count": 7,
     "metadata": {},
     "output_type": "execute_result"
    }
   ],
   "source": [
    "missing"
   ]
  },
  {
   "cell_type": "markdown",
   "metadata": {},
   "source": [
    "Check for negative values"
   ]
  },
  {
   "cell_type": "code",
   "execution_count": 8,
   "metadata": {},
   "outputs": [
    {
     "data": {
      "text/html": [
       "<div>\n",
       "<style scoped>\n",
       "    .dataframe tbody tr th:only-of-type {\n",
       "        vertical-align: middle;\n",
       "    }\n",
       "\n",
       "    .dataframe tbody tr th {\n",
       "        vertical-align: top;\n",
       "    }\n",
       "\n",
       "    .dataframe thead th {\n",
       "        text-align: right;\n",
       "    }\n",
       "</style>\n",
       "<table border=\"1\" class=\"dataframe\">\n",
       "  <thead>\n",
       "    <tr style=\"text-align: right;\">\n",
       "      <th></th>\n",
       "      <th>date</th>\n",
       "      <th>day</th>\n",
       "      <th>month</th>\n",
       "      <th>year</th>\n",
       "      <th>cases</th>\n",
       "      <th>deaths</th>\n",
       "      <th>country</th>\n",
       "      <th>geoId</th>\n",
       "      <th>countryCode</th>\n",
       "      <th>pop</th>\n",
       "      <th>continentExp</th>\n",
       "    </tr>\n",
       "  </thead>\n",
       "  <tbody>\n",
       "    <tr>\n",
       "      <th>16493</th>\n",
       "      <td>2020-04-19</td>\n",
       "      <td>19</td>\n",
       "      <td>4</td>\n",
       "      <td>2020</td>\n",
       "      <td>-713</td>\n",
       "      <td>410</td>\n",
       "      <td>Spain</td>\n",
       "      <td>ES</td>\n",
       "      <td>ESP</td>\n",
       "      <td>46723749.0</td>\n",
       "      <td>Europe</td>\n",
       "    </tr>\n",
       "    <tr>\n",
       "      <th>18258</th>\n",
       "      <td>2020-05-21</td>\n",
       "      <td>21</td>\n",
       "      <td>5</td>\n",
       "      <td>2020</td>\n",
       "      <td>-525</td>\n",
       "      <td>363</td>\n",
       "      <td>United_Kingdom</td>\n",
       "      <td>UK</td>\n",
       "      <td>GBR</td>\n",
       "      <td>66488991.0</td>\n",
       "      <td>Europe</td>\n",
       "    </tr>\n",
       "  </tbody>\n",
       "</table>\n",
       "</div>"
      ],
      "text/plain": [
       "            date  day  month  year  cases  deaths         country geoId  \\\n",
       "16493 2020-04-19   19      4  2020   -713     410           Spain    ES   \n",
       "18258 2020-05-21   21      5  2020   -525     363  United_Kingdom    UK   \n",
       "\n",
       "      countryCode         pop continentExp  \n",
       "16493         ESP  46723749.0       Europe  \n",
       "18258         GBR  66488991.0       Europe  "
      ]
     },
     "execution_count": 8,
     "metadata": {},
     "output_type": "execute_result"
    }
   ],
   "source": [
    "negative = data.loc[data['cases'] < 0]\n",
    "negative"
   ]
  },
  {
   "cell_type": "code",
   "execution_count": 9,
   "metadata": {},
   "outputs": [],
   "source": [
    "data = data.drop(negative.index.values)"
   ]
  },
  {
   "cell_type": "code",
   "execution_count": 10,
   "metadata": {},
   "outputs": [
    {
     "data": {
      "text/html": [
       "<div>\n",
       "<style scoped>\n",
       "    .dataframe tbody tr th:only-of-type {\n",
       "        vertical-align: middle;\n",
       "    }\n",
       "\n",
       "    .dataframe tbody tr th {\n",
       "        vertical-align: top;\n",
       "    }\n",
       "\n",
       "    .dataframe thead th {\n",
       "        text-align: right;\n",
       "    }\n",
       "</style>\n",
       "<table border=\"1\" class=\"dataframe\">\n",
       "  <thead>\n",
       "    <tr style=\"text-align: right;\">\n",
       "      <th></th>\n",
       "      <th>date</th>\n",
       "      <th>day</th>\n",
       "      <th>month</th>\n",
       "      <th>year</th>\n",
       "      <th>cases</th>\n",
       "      <th>deaths</th>\n",
       "      <th>country</th>\n",
       "      <th>geoId</th>\n",
       "      <th>countryCode</th>\n",
       "      <th>pop</th>\n",
       "      <th>continentExp</th>\n",
       "    </tr>\n",
       "  </thead>\n",
       "  <tbody>\n",
       "  </tbody>\n",
       "</table>\n",
       "</div>"
      ],
      "text/plain": [
       "Empty DataFrame\n",
       "Columns: [date, day, month, year, cases, deaths, country, geoId, countryCode, pop, continentExp]\n",
       "Index: []"
      ]
     },
     "execution_count": 10,
     "metadata": {},
     "output_type": "execute_result"
    }
   ],
   "source": [
    "data.loc[data['cases'] < 0]"
   ]
  },
  {
   "cell_type": "code",
   "execution_count": 13,
   "metadata": {},
   "outputs": [
    {
     "data": {
      "text/html": [
       "<div>\n",
       "<style scoped>\n",
       "    .dataframe tbody tr th:only-of-type {\n",
       "        vertical-align: middle;\n",
       "    }\n",
       "\n",
       "    .dataframe tbody tr th {\n",
       "        vertical-align: top;\n",
       "    }\n",
       "\n",
       "    .dataframe thead th {\n",
       "        text-align: right;\n",
       "    }\n",
       "</style>\n",
       "<table border=\"1\" class=\"dataframe\">\n",
       "  <thead>\n",
       "    <tr style=\"text-align: right;\">\n",
       "      <th></th>\n",
       "      <th>date</th>\n",
       "      <th>day</th>\n",
       "      <th>month</th>\n",
       "      <th>year</th>\n",
       "      <th>cases</th>\n",
       "      <th>deaths</th>\n",
       "      <th>country</th>\n",
       "      <th>geoId</th>\n",
       "      <th>countryCode</th>\n",
       "      <th>pop</th>\n",
       "      <th>continentExp</th>\n",
       "    </tr>\n",
       "  </thead>\n",
       "  <tbody>\n",
       "    <tr>\n",
       "      <th>18400</th>\n",
       "      <td>2019-12-31</td>\n",
       "      <td>31</td>\n",
       "      <td>12</td>\n",
       "      <td>2019</td>\n",
       "      <td>0</td>\n",
       "      <td>0</td>\n",
       "      <td>United_Kingdom</td>\n",
       "      <td>UK</td>\n",
       "      <td>GBR</td>\n",
       "      <td>66488991.0</td>\n",
       "      <td>Europe</td>\n",
       "    </tr>\n",
       "    <tr>\n",
       "      <th>4966</th>\n",
       "      <td>2019-12-31</td>\n",
       "      <td>31</td>\n",
       "      <td>12</td>\n",
       "      <td>2019</td>\n",
       "      <td>0</td>\n",
       "      <td>0</td>\n",
       "      <td>Denmark</td>\n",
       "      <td>DK</td>\n",
       "      <td>DNK</td>\n",
       "      <td>5797446.0</td>\n",
       "      <td>Europe</td>\n",
       "    </tr>\n",
       "    <tr>\n",
       "      <th>6990</th>\n",
       "      <td>2019-12-31</td>\n",
       "      <td>31</td>\n",
       "      <td>12</td>\n",
       "      <td>2019</td>\n",
       "      <td>0</td>\n",
       "      <td>0</td>\n",
       "      <td>Germany</td>\n",
       "      <td>DE</td>\n",
       "      <td>DEU</td>\n",
       "      <td>82927922.0</td>\n",
       "      <td>Europe</td>\n",
       "    </tr>\n",
       "    <tr>\n",
       "      <th>9337</th>\n",
       "      <td>2019-12-31</td>\n",
       "      <td>31</td>\n",
       "      <td>12</td>\n",
       "      <td>2019</td>\n",
       "      <td>0</td>\n",
       "      <td>0</td>\n",
       "      <td>Italy</td>\n",
       "      <td>IT</td>\n",
       "      <td>ITA</td>\n",
       "      <td>60431283.0</td>\n",
       "      <td>Europe</td>\n",
       "    </tr>\n",
       "    <tr>\n",
       "      <th>1979</th>\n",
       "      <td>2019-12-31</td>\n",
       "      <td>31</td>\n",
       "      <td>12</td>\n",
       "      <td>2019</td>\n",
       "      <td>0</td>\n",
       "      <td>0</td>\n",
       "      <td>Belgium</td>\n",
       "      <td>BE</td>\n",
       "      <td>BEL</td>\n",
       "      <td>11422068.0</td>\n",
       "      <td>Europe</td>\n",
       "    </tr>\n",
       "  </tbody>\n",
       "</table>\n",
       "</div>"
      ],
      "text/plain": [
       "            date  day  month  year  cases  deaths         country geoId  \\\n",
       "18400 2019-12-31   31     12  2019      0       0  United_Kingdom    UK   \n",
       "4966  2019-12-31   31     12  2019      0       0         Denmark    DK   \n",
       "6990  2019-12-31   31     12  2019      0       0         Germany    DE   \n",
       "9337  2019-12-31   31     12  2019      0       0           Italy    IT   \n",
       "1979  2019-12-31   31     12  2019      0       0         Belgium    BE   \n",
       "\n",
       "      countryCode         pop continentExp  \n",
       "18400         GBR  66488991.0       Europe  \n",
       "4966          DNK   5797446.0       Europe  \n",
       "6990          DEU  82927922.0       Europe  \n",
       "9337          ITA  60431283.0       Europe  \n",
       "1979          BEL  11422068.0       Europe  "
      ]
     },
     "execution_count": 13,
     "metadata": {},
     "output_type": "execute_result"
    }
   ],
   "source": [
    "data.head()"
   ]
  },
  {
   "cell_type": "markdown",
   "metadata": {},
   "source": [
    "Separate countries, make sure first record is equal to the first case date and reindex dataframes."
   ]
  },
  {
   "cell_type": "code",
   "execution_count": 14,
   "metadata": {},
   "outputs": [
    {
     "name": "stderr",
     "output_type": "stream",
     "text": [
      "/Library/Frameworks/Python.framework/Versions/3.7/lib/python3.7/site-packages/pandas/core/frame.py:3940: SettingWithCopyWarning: \n",
      "A value is trying to be set on a copy of a slice from a DataFrame\n",
      "\n",
      "See the caveats in the documentation: http://pandas.pydata.org/pandas-docs/stable/indexing.html#indexing-view-versus-copy\n",
      "  errors=errors)\n"
     ]
    }
   ],
   "source": [
    "nl=no=be=ge=de=se=ro=it=uk=sp= None\n",
    "countries = [[nl, 'Netherlands'], [no, 'Norway'], [be, 'Belgium'], [ge, 'Germany'], [de, 'Denmark'], [se, 'Sweden'], [ro, 'Romania'], [it, 'Italy'], [uk, 'United_Kingdom'], [sp, 'Spain']]\n",
    "for country in countries: \n",
    "    country[0] = data.loc[data['country'] == country[1]]\n",
    "    country[0].drop(country[0].loc[country[0]['cases']==0].index, inplace=True)\n",
    "    country[0].reset_index(drop=True, inplace=True)"
   ]
  },
  {
   "cell_type": "code",
   "execution_count": 15,
   "metadata": {},
   "outputs": [],
   "source": [
    "dataframes, _ = zip(*countries)"
   ]
  },
  {
   "cell_type": "code",
   "execution_count": 16,
   "metadata": {},
   "outputs": [
    {
     "data": {
      "text/html": [
       "<div>\n",
       "<style scoped>\n",
       "    .dataframe tbody tr th:only-of-type {\n",
       "        vertical-align: middle;\n",
       "    }\n",
       "\n",
       "    .dataframe tbody tr th {\n",
       "        vertical-align: top;\n",
       "    }\n",
       "\n",
       "    .dataframe thead th {\n",
       "        text-align: right;\n",
       "    }\n",
       "</style>\n",
       "<table border=\"1\" class=\"dataframe\">\n",
       "  <thead>\n",
       "    <tr style=\"text-align: right;\">\n",
       "      <th></th>\n",
       "      <th>date</th>\n",
       "      <th>day</th>\n",
       "      <th>month</th>\n",
       "      <th>year</th>\n",
       "      <th>cases</th>\n",
       "      <th>deaths</th>\n",
       "      <th>country</th>\n",
       "      <th>geoId</th>\n",
       "      <th>countryCode</th>\n",
       "      <th>pop</th>\n",
       "      <th>continentExp</th>\n",
       "    </tr>\n",
       "  </thead>\n",
       "  <tbody>\n",
       "    <tr>\n",
       "      <th>0</th>\n",
       "      <td>2020-02-28</td>\n",
       "      <td>28</td>\n",
       "      <td>2</td>\n",
       "      <td>2020</td>\n",
       "      <td>1</td>\n",
       "      <td>0</td>\n",
       "      <td>Netherlands</td>\n",
       "      <td>NL</td>\n",
       "      <td>NLD</td>\n",
       "      <td>17231017.0</td>\n",
       "      <td>Europe</td>\n",
       "    </tr>\n",
       "    <tr>\n",
       "      <th>1</th>\n",
       "      <td>2020-02-29</td>\n",
       "      <td>29</td>\n",
       "      <td>2</td>\n",
       "      <td>2020</td>\n",
       "      <td>1</td>\n",
       "      <td>0</td>\n",
       "      <td>Netherlands</td>\n",
       "      <td>NL</td>\n",
       "      <td>NLD</td>\n",
       "      <td>17231017.0</td>\n",
       "      <td>Europe</td>\n",
       "    </tr>\n",
       "    <tr>\n",
       "      <th>2</th>\n",
       "      <td>2020-03-01</td>\n",
       "      <td>1</td>\n",
       "      <td>3</td>\n",
       "      <td>2020</td>\n",
       "      <td>5</td>\n",
       "      <td>0</td>\n",
       "      <td>Netherlands</td>\n",
       "      <td>NL</td>\n",
       "      <td>NLD</td>\n",
       "      <td>17231017.0</td>\n",
       "      <td>Europe</td>\n",
       "    </tr>\n",
       "    <tr>\n",
       "      <th>3</th>\n",
       "      <td>2020-03-02</td>\n",
       "      <td>2</td>\n",
       "      <td>3</td>\n",
       "      <td>2020</td>\n",
       "      <td>6</td>\n",
       "      <td>0</td>\n",
       "      <td>Netherlands</td>\n",
       "      <td>NL</td>\n",
       "      <td>NLD</td>\n",
       "      <td>17231017.0</td>\n",
       "      <td>Europe</td>\n",
       "    </tr>\n",
       "    <tr>\n",
       "      <th>4</th>\n",
       "      <td>2020-03-03</td>\n",
       "      <td>3</td>\n",
       "      <td>3</td>\n",
       "      <td>2020</td>\n",
       "      <td>5</td>\n",
       "      <td>0</td>\n",
       "      <td>Netherlands</td>\n",
       "      <td>NL</td>\n",
       "      <td>NLD</td>\n",
       "      <td>17231017.0</td>\n",
       "      <td>Europe</td>\n",
       "    </tr>\n",
       "  </tbody>\n",
       "</table>\n",
       "</div>"
      ],
      "text/plain": [
       "        date  day  month  year  cases  deaths      country geoId countryCode  \\\n",
       "0 2020-02-28   28      2  2020      1       0  Netherlands    NL         NLD   \n",
       "1 2020-02-29   29      2  2020      1       0  Netherlands    NL         NLD   \n",
       "2 2020-03-01    1      3  2020      5       0  Netherlands    NL         NLD   \n",
       "3 2020-03-02    2      3  2020      6       0  Netherlands    NL         NLD   \n",
       "4 2020-03-03    3      3  2020      5       0  Netherlands    NL         NLD   \n",
       "\n",
       "          pop continentExp  \n",
       "0  17231017.0       Europe  \n",
       "1  17231017.0       Europe  \n",
       "2  17231017.0       Europe  \n",
       "3  17231017.0       Europe  \n",
       "4  17231017.0       Europe  "
      ]
     },
     "execution_count": 16,
     "metadata": {},
     "output_type": "execute_result"
    }
   ],
   "source": [
    "dataframes[0].head()"
   ]
  },
  {
   "cell_type": "markdown",
   "metadata": {},
   "source": [
    "### Seir Model"
   ]
  },
  {
   "cell_type": "markdown",
   "metadata": {},
   "source": [
    "https://scipython.com/book/chapter-8-scipy/additional-examples/the-sir-epidemic-model/, \n",
    "https://arxiv.org/pdf/2003.11150.pdf"
   ]
  },
  {
   "cell_type": "markdown",
   "metadata": {},
   "source": [
    "Using the real parameters from the paper"
   ]
  },
  {
   "cell_type": "code",
   "execution_count": 33,
   "metadata": {},
   "outputs": [],
   "source": [
    "mobilityDay = np.asarray([[0.08, 0.02, 0.15, 0.15, 0.15, 0.1, 0.15, 0.2], [0.08, 0.02, 0.15, 0.15, 0.15, 0.1, 0.15, 0.2], [0.3, 0.3, 0.1, 0.1, 0.05, 0.05, 0, 0.1], [0.05, 0, 0.2, 0.15, 0.15, 0.1, 0.2, 0.15], [0, 0, 0, 0, 0, 0, 0, 0]])\n",
    "mobilityNight = np.asarray([[1, 0, 0, 0, 0, 0, 0, 0], [1, 0, 0, 0, 0, 0, 0, 0], [1, 0, 0, 0, 0, 0, 0, 0], [1, 0, 0, 0, 0, 0, 0, 0], [0, 0, 0, 0, 0, 0, 0, 0]])\n",
    "mobilitySunday = np.asarray([[0.4, 0, 0, 0.6, 0, 0, 0, 0], [0.4, 0, 0, 0.6, 0, 0, 0, 0], [0.4, 0, 0, 0.6, 0, 0, 0, 0], [0.4, 0, 0, 0.6, 0, 0, 0, 0], [0, 0, 0, 0, 0, 0, 0, 0]])\n",
    "\n",
    "beta = 0.1\n",
    "betaArr = [0.08, beta, 1.5*beta, 1.5*beta, 1.5*beta, 1.5*beta, beta, 3*beta]\n",
    "q = 3\n",
    "delta = 0.15\n",
    "d = 0.016\n",
    "g = 0.0167\n",
    "gammaR = 0.08\n",
    "gammaD = 0.12\n",
    "t = np.linspace(0, 500, 48000)\n",
    "# N = np.unique(dataframes[0]['pop'].values)[0]\n",
    "N = 1002\n",
    "# I0 = dataframes[0]['cases'].values[0]\n",
    "I0 = 0\n",
    "R0 = D0 = 0\n",
    "E0 = 2\n",
    "S0 = N - I0 - R0 - E0 - D0\n",
    "y0 = S0, E0, I0, R0, D0"
   ]
  },
  {
   "cell_type": "code",
   "execution_count": 34,
   "metadata": {},
   "outputs": [],
   "source": [
    "def deriv(y, t, N, betaArr, mobility, delta, d, g, q, gammaR, gammaD):\n",
    "    S, E, I, R, D = y\n",
    "    dSdt = dEdt = dIdt = 0\n",
    "#     for i in range(8):\n",
    "#         dSdt = dSdt + (-betaArr[i]*S * mobility[:,i][0] *(I*mobility[:,i][2]-q*E * mobility[:,i][1])/N + d*E * mobility[:,i][1] + g*I * mobility[:,i][2])\n",
    "#         dEdt = dEdt + (betaArr[i]*S * mobility[:,i][0]*(I*mobility[:,i][2]-q*E*mobility[:,i][1])/N - (delta + d)*E* mobility[:,i][1])\n",
    "#         dIdt = dIdt + (delta*E *mobility[:,i][1] - (gammaR + gammaD)*I* mobility[:,i][2])\n",
    "\n",
    "#     for i in range(8):\n",
    "#         dSdt += (-betaArr[i]*S * mobility[:,i][0] *(I*mobility[:,i][2]+q*E * mobility[:,i][1])/N) + d*E*mobility[:,i][1] + g*R*mobility[:,i][3]\n",
    "#         dEdt += betaArr[i]*S * mobility[:,i][0]*(I*mobility[:,i][2]+q*E*mobility[:,i][1])/N - (delta + d)*E* mobility[:,i][1]\n",
    "#         dIdt += delta*E *mobility[:,i][1] - (gammaR + gammaD)*I* mobility[:,i][2]\n",
    "\n",
    "    for i in range(8):\n",
    "        dSdt += (-betaArr[i]*S * mobility[:,i][0] *(I*mobility[:,i][2] +q*E * mobility[:,i][1])/N) #+ d*E*mobility[:,i][1] + g*R*mobility[:,i][3]\n",
    "        dEdt += betaArr[i]*S * mobility[:,i][0]*(I*mobility[:,i][2]+q*E*mobility[:,i][1])/N #- (delta + d)*E* mobility[:,i][1]\n",
    "#         dIdt += delta*E *mobility[:,i][1] - (gammaR + gammaD)*I* mobility[:,i][2]\n",
    "        \n",
    "#     dSdt = -beta*S*(I-q*E)/N + d*E + g*R\n",
    "#     dEdt = beta*S*(I-q*E)/N - (delta + d)*E\n",
    "#     dIdt = delta*E - (gammaR + gammaD)*I\n",
    "#     print(dSdt, dEdt, dIdt)\n",
    "\n",
    "    dSdt += g*R + d*E\n",
    "    dEdt += (- (delta + d)*E)\n",
    "    \n",
    "#     dSdt = (-beta*S  *(I +q*E)/N) + g*R + d*E\n",
    "#     dEdt = beta*S *(I+q*E)/N - (delta + d)*E\n",
    "    \n",
    "    dIdt = delta*E - (gammaR + gammaD)*I\n",
    "    dRdt = gammaR * I - g*R\n",
    "    dDdt = gammaD*I\n",
    "    return dSdt, dEdt, dIdt, dRdt, dDdt"
   ]
  },
  {
   "cell_type": "markdown",
   "metadata": {},
   "source": [
    "Using the Euler method (allows for incorporating fe weekly patterns)"
   ]
  },
  {
   "cell_type": "code",
   "execution_count": 35,
   "metadata": {},
   "outputs": [],
   "source": [
    "def euler(f,y0,a,b,h, S, E, I, R, D, mobility):\n",
    "\n",
    "    t,y = a,y0\n",
    "    while t <= b:\n",
    "        t += h\n",
    "        y += h * np.asarray(f(y, t, N, betaArr, mobility, delta, d, g, q, gammaR, gammaD))\n",
    "\n",
    "        S.append(y[0])\n",
    "        E.append(y[1])\n",
    "        I.append(y[2])\n",
    "        R.append(y[3])\n",
    "        D.append(y[4])\n",
    "    return S, E, I, R, D"
   ]
  },
  {
   "cell_type": "markdown",
   "metadata": {},
   "source": [
    "No measures"
   ]
  },
  {
   "cell_type": "code",
   "execution_count": 36,
   "metadata": {},
   "outputs": [],
   "source": [
    "i = 0\n",
    "y = y0\n",
    "S, E, I, R, D = [S0], [E0], [I0], [R0], [D0]\n",
    "while i < 72:\n",
    "    j = 0\n",
    "    while j < 6:\n",
    "        S, E, I, R, D = euler(deriv,y,0,0.24,0.01, S, E, I, R, D, mobilityDay)\n",
    "        y = S[-1], E[-1], I[-1], R[-1], D[-1]\n",
    "        S, E, I, R, D = euler(deriv,y,0,0.72,0.01, S, E, I, R, D, mobilityNight)\n",
    "        y = S[-1], E[-1], I[-1], R[-1], D[-1]\n",
    "        j+=1\n",
    "        \n",
    "    S, E, I, R, D = euler(deriv,y,0,0.24,0.01, S, E, I, R, D, mobilitySunday)\n",
    "    y = S[-1], E[-1], I[-1], R[-1], D[-1]\n",
    "    S, E, I, R, D = euler(deriv,y,0,0.72,0.01, S, E, I, R, D, mobilityNight)\n",
    "    y = S[-1], E[-1], I[-1], R[-1], D[-1]\n",
    "    \n",
    "    i+=1"
   ]
  },
  {
   "cell_type": "code",
   "execution_count": 37,
   "metadata": {},
   "outputs": [
    {
     "data": {
      "image/png": "[encoded data removed]",
      "text/plain": [
       "<Figure size 432x288 with 1 Axes>"
      ]
     },
     "metadata": {},
     "output_type": "display_data"
    }
   ],
   "source": [
    "x = np.linspace(0, len(S), len(S))\n",
    "fig = plt.figure(facecolor='w')\n",
    "ax = fig.add_subplot(111, facecolor='#dddddd', axisbelow=True)\n",
    "ax.plot(x, S, 'b', alpha=0.5, lw=2, label='Susceptible')\n",
    "ax.plot(x, E, 'y', alpha=0.5, lw=2, label='Exposed')\n",
    "ax.plot(x, I, 'r', alpha=0.5, lw=2, label='Infected')\n",
    "ax.plot(x, R, 'g', alpha=0.5, lw=2, label='Recovered')\n",
    "ax.plot(x, D, 'c', alpha=0.5, lw=2, label='Dead')\n",
    "\n",
    "ax.set_xlabel('Time /days')\n",
    "ax.set_ylabel('Number of individuals')\n",
    "ax.set_title('System dynamics in absence of preventative measures')\n",
    "# ax.set_ylim(0,1.2)\n",
    "ax.yaxis.set_tick_params(length=0)\n",
    "ax.xaxis.set_tick_params(length=0)\n",
    "ax.grid(b=True, which='major', c='w', lw=2, ls='-')\n",
    "legend = ax.legend()\n",
    "legend.get_frame().set_alpha(0.5)\n",
    "for spine in ('top', 'right', 'bottom', 'left'):\n",
    "    ax.spines[spine].set_visible(False)\n",
    "plt.show()"
   ]
  },
  {
   "cell_type": "code",
   "execution_count": 38,
   "metadata": {},
   "outputs": [
    {
     "data": {
      "image/png": "[encoded data removed]",
      "text/plain": [
       "<Figure size 432x288 with 1 Axes>"
      ]
     },
     "metadata": {},
     "output_type": "display_data"
    }
   ],
   "source": [
    "x = np.linspace(0, len(S), len(S))\n",
    "fig = plt.figure(facecolor='w')\n",
    "ax = fig.add_subplot(111, facecolor='#dddddd', axisbelow=True)\n",
    "\n",
    "ax.plot(x, I, 'r', alpha=0.5, lw=2, label='Infected')\n",
    "\n",
    "\n",
    "ax.set_xlabel('Time /days')\n",
    "ax.set_ylabel('Number of individuals')\n",
    "ax.set_title('Infected individuals in absence of preventative measures')\n",
    "# ax.set_ylim(0,1.2)\n",
    "ax.yaxis.set_tick_params(length=0)\n",
    "ax.xaxis.set_tick_params(length=0)\n",
    "ax.grid(b=True, which='major', c='w', lw=2, ls='-')\n",
    "legend = ax.legend()\n",
    "legend.get_frame().set_alpha(0.5)\n",
    "for spine in ('top', 'right', 'bottom', 'left'):\n",
    "    ax.spines[spine].set_visible(False)\n",
    "plt.show()"
   ]
  },
  {
   "cell_type": "markdown",
   "metadata": {},
   "source": [
    "Closures after 2 weeks"
   ]
  },
  {
   "cell_type": "code",
   "execution_count": 23,
   "metadata": {},
   "outputs": [],
   "source": [
    "i = 0\n",
    "y = y0\n",
    "S, E, I, R, D = [S0], [E0], [I0], [R0], [D0]\n",
    "while i < 72:\n",
    "#     if I[-1] > 5: \n",
    "    if i >=2:\n",
    "        mobilityDay = np.asarray([[0.78, 0.02, 0.1, 0, 0, 0, 0.1, 0], [0.78, 0.02, 0.1, 0, 0, 0, 0.1, 0], [0.7, 0.3, 0, 0, 0, 0, 0, 0], [0.05, 0, 0.2, 0.15, 0.15, 0.1, 0.2, 0.15], [0, 0, 0, 0, 0, 0, 0, 0]])\n",
    "        mobilityNight = np.asarray([[1, 0, 0, 0, 0, 0, 0, 0], [1, 0, 0, 0, 0, 0, 0, 0], [1, 0, 0, 0, 0, 0, 0, 0], [1, 0, 0, 0, 0, 0, 0, 0], [0, 0, 0, 0, 0, 0, 0, 0]])\n",
    "        mobilitySunday = mobilityNight\n",
    "        \n",
    "#         beta = 0.08\n",
    "    \n",
    "    j = 0\n",
    "    while j < 6:\n",
    "        S, E, I, R, D = euler(deriv,y,0,0.24,0.01, S, E, I, R, D, mobilityDay)\n",
    "        y = S[-1], E[-1], I[-1], R[-1], D[-1]\n",
    "        S, E, I, R, D = euler(deriv,y,0,0.72,0.01, S, E, I, R, D, mobilityNight)\n",
    "        y = S[-1], E[-1], I[-1], R[-1], D[-1]\n",
    "        j+=1\n",
    "        \n",
    "    S, E, I, R, D = euler(deriv,y,0,0.24,0.01, S, E, I, R, D, mobilitySunday)\n",
    "    y = S[-1], E[-1], I[-1], R[-1], D[-1]\n",
    "    S, E, I, R, D = euler(deriv,y,0,0.72,0.01, S, E, I, R, D, mobilityNight)\n",
    "    y = S[-1], E[-1], I[-1], R[-1], D[-1]\n",
    "    \n",
    "    i+=1"
   ]
  },
  {
   "cell_type": "code",
   "execution_count": 24,
   "metadata": {},
   "outputs": [
    {
     "data": {
      "image/png": "[encoded data removed]",
      "text/plain": [
       "<Figure size 432x288 with 1 Axes>"
      ]
     },
     "metadata": {},
     "output_type": "display_data"
    }
   ],
   "source": [
    "x = np.linspace(0, len(S), len(S))\n",
    "fig = plt.figure(facecolor='w')\n",
    "ax = fig.add_subplot(111, facecolor='#dddddd', axisbelow=True)\n",
    "ax.plot(x, S, 'b', alpha=0.5, lw=2, label='Susceptible')\n",
    "ax.plot(x, E, 'y', alpha=0.5, lw=2, label='Exposed')\n",
    "ax.plot(x, I, 'r', alpha=0.5, lw=2, label='Infected')\n",
    "ax.plot(x, R, 'g', alpha=0.5, lw=2, label='Recovered')\n",
    "ax.plot(x, D, 'c', alpha=0.5, lw=2, label='Dead')\n",
    "\n",
    "ax.set_xlabel('Time /days')\n",
    "ax.set_ylabel('Number of individuals')\n",
    "ax.set_title('System dynamics when public institutions are closed after two weeks')\n",
    "# ax.set_ylim(0,1.2)\n",
    "ax.yaxis.set_tick_params(length=0)\n",
    "ax.xaxis.set_tick_params(length=0)\n",
    "ax.grid(b=True, which='major', c='w', lw=2, ls='-')\n",
    "legend = ax.legend()\n",
    "legend.get_frame().set_alpha(0.5)\n",
    "for spine in ('top', 'right', 'bottom', 'left'):\n",
    "    ax.spines[spine].set_visible(False)\n",
    "plt.show()"
   ]
  },
  {
   "cell_type": "code",
   "execution_count": 25,
   "metadata": {},
   "outputs": [
    {
     "data": {
      "image/png": "[encoded data removed]",
      "text/plain": [
       "<Figure size 432x288 with 1 Axes>"
      ]
     },
     "metadata": {},
     "output_type": "display_data"
    }
   ],
   "source": [
    "x = np.linspace(0, len(S), len(S))\n",
    "fig = plt.figure(facecolor='w')\n",
    "ax = fig.add_subplot(111, facecolor='#dddddd', axisbelow=True)\n",
    "ax.plot(x, I, 'r', alpha=0.5, lw=2, label='Infected')\n",
    "\n",
    "ax.set_xlabel('Time /days')\n",
    "ax.set_ylabel('Number of individuals')\n",
    "ax.set_title('Infected individuals when public institutions are closed after 2 weeks')\n",
    "# ax.set_ylim(0,1.2)\n",
    "ax.yaxis.set_tick_params(length=0)\n",
    "ax.xaxis.set_tick_params(length=0)\n",
    "ax.grid(b=True, which='major', c='w', lw=2, ls='-')\n",
    "legend = ax.legend()\n",
    "legend.get_frame().set_alpha(0.5)\n",
    "for spine in ('top', 'right', 'bottom', 'left'):\n",
    "    ax.spines[spine].set_visible(False)\n",
    "plt.show()"
   ]
  },
  {
   "cell_type": "markdown",
   "metadata": {},
   "source": [
    "Using method from https://scipython.com/book/chapter-8-scipy/additional-examples/the-sir-epidemic-model/ (only works well for experimental parameters)"
   ]
  },
  {
   "cell_type": "markdown",
   "metadata": {},
   "source": [
    "Experimental parameters: higher beta and gammaD"
   ]
  },
  {
   "cell_type": "code",
   "execution_count": 97,
   "metadata": {},
   "outputs": [],
   "source": [
    "mobilityDay = np.asarray([[0.08, 0.02, 0.15, 0.15, 0.15, 0.1, 0.15, 0.2], [0.08, 0.02, 0.15, 0.15, 0.15, 0.1, 0.15, 0.2], [0.3, 0.3, 0.1, 0.1, 0.05, 0.05, 0, 0.1], [0, 0, 0, 0, 0, 0, 0, 0], [0, 0, 0, 0, 0, 0, 0, 0]])\n",
    "mobilityNight = np.asarray([[1, 0, 0, 0, 0, 0, 0, 0], [1, 0, 0, 0, 0, 0, 0, 0], [1, 0, 0, 0, 0, 0, 0, 0], [0, 0, 0, 0, 0, 0, 0, 0], [0, 0, 0, 0, 0, 0, 0, 0]])\n",
    "mobilitySunday = np.asarray([[0.4, 0, 0, 0.6, 0, 0, 0, 0], [0.4, 0, 0, 0.6, 0, 0, 0, 0], [0.4, 0, 0, 0.6, 0, 0, 0, 0], [0, 0, 0, 0, 0, 0, 0, 0], [0, 0, 0, 0, 0, 0, 0, 0]])\n",
    "\n",
    "beta = 0.5\n",
    "betaArr = [0.08, beta, 1.5*beta, 1.5*beta, 1.5*beta, 1.5*beta, beta, 3*beta]\n",
    "q = 3\n",
    "delta = 0.15\n",
    "d = 0.016\n",
    "g = 0.0167\n",
    "gammaR = 0.08\n",
    "gammaD = 0.3\n",
    "t = np.linspace(0, 500, 48000)\n",
    "# N = np.unique(dataframes[0]['pop'].values)[0]\n",
    "N = 1002\n",
    "I0 = dataframes[0]['cases'].values[0]\n",
    "R0 = D0 = 0\n",
    "E0 = 2\n",
    "S0 = N - I0 - R0 - E0 - D0\n",
    "y0 = S0, E0, I0, R0, D0"
   ]
  },
  {
   "cell_type": "code",
   "execution_count": 98,
   "metadata": {},
   "outputs": [],
   "source": [
    "ret = odeint(deriv, y0, t, args=(N, betaArr, mobilityDay, delta, d, g, q, gammaR, gammaD))\n",
    "S, E, I, R, D = ret.T"
   ]
  },
  {
   "cell_type": "markdown",
   "metadata": {},
   "source": [
    "Attempt to repeat with different mobility matrix at different parts of the day"
   ]
  },
  {
   "cell_type": "code",
   "execution_count": 99,
   "metadata": {},
   "outputs": [],
   "source": [
    "# i = 0\n",
    "# while 0 <= len(t): \n",
    "#     if i ==0:\n",
    "#         ret = odeint(deriv, y0, 1, args=(N, betaArr, mobilityDay, delta, d, g, q, gammaR, gammaD))\n",
    "#         S, E, I, R, D = ret.T\n",
    "#         y = S[-1], E[-1], I[-1], R[-1], D[-1]\n",
    "        \n",
    "#         ret = odeint(deriv, y0, 23, args=(N, betaArr, mobilityDay, delta, d, g, q, gammaR, gammaD))\n",
    "#         S, E, I, R, D = ret.T\n",
    "#         y = S[-1], E[-1], I[-1], R[-1], D[-1] \n",
    "        \n",
    "#         ret = odeint(deriv, y, 72, args=(N, betaArr, mobilityNight, delta, d, g, q, gammaR, gammaD))\n",
    "#         S, E, I, R, D = ret.T\n",
    "#         y = S[-1], E[-1], I[-1], R[-1], D[-1]\n",
    "        \n",
    "#         j = 1\n",
    "        \n",
    "#     else: \n",
    "#         j = 0\n",
    "        \n",
    "#     while j < 7: \n",
    "#         ret = odeint(deriv, y, 24, args=(N, betaArr, mobilityDay, delta, d, g, q, gammaR, gammaD))\n",
    "#         S, E, I, R, D = ret.T\n",
    "#         y = S[-1], E[-1], I[-1], R[-1], D[-1]\n",
    "    \n",
    "#         ret = odeint(deriv, y, 72, args=(N, betaArr, mobilityNight, delta, d, g, q, gammaR, gammaD))\n",
    "#         S, E, I, R, D = ret.T\n",
    "#         y = S[-1], E[-1], I[-1], R[-1], D[-1]\n",
    "#         j++\n",
    "    \n",
    "#     ret = odeint(deriv, y, 24, args=(N, betaArr, mobilitySunday, delta, d, g, q, gammaR, gammaD))\n",
    "#     S, E, I, R, D = ret.T\n",
    "#     y = S[-1], E[-1], I[-1], R[-1], D[-1]\n",
    "    \n",
    "#     ret = odeint(deriv, y, 72, args=(N, betaArr, mobilityNight, delta, d, g, q, gammaR, gammaD))\n",
    "#     S, E, I, R, D = ret.T\n",
    "#     y = S[-1], E[-1], I[-1], R[-1], D[-1]\n",
    "    \n",
    "#     i++"
   ]
  },
  {
   "cell_type": "code",
   "execution_count": 100,
   "metadata": {},
   "outputs": [
    {
     "data": {
      "image/png": "[encoded data removed]",
      "text/plain": [
       "<Figure size 432x288 with 1 Axes>"
      ]
     },
     "metadata": {},
     "output_type": "display_data"
    }
   ],
   "source": [
    "fig = plt.figure(facecolor='w')\n",
    "ax = fig.add_subplot(111, facecolor='#dddddd', axisbelow=True)\n",
    "ax.plot(t, S/1000, 'b', alpha=0.5, lw=2, label='Susceptible')\n",
    "ax.plot(t, E/1000, 'y', alpha=0.5, lw=2, label='Exposed')\n",
    "ax.plot(t, I/1000, 'r', alpha=0.5, lw=2, label='Infected')\n",
    "ax.plot(t, R/1000, 'g', alpha=0.5, lw=2, label='Recovered with immunity')\n",
    "ax.plot(t, D/1000, 'c', alpha=0.5, lw=2, label='Dead')\n",
    "\n",
    "ax.set_xlabel('Time /days')\n",
    "ax.set_ylabel('Number (1000s)')\n",
    "# ax.set_ylim(0,1.2)\n",
    "ax.yaxis.set_tick_params(length=0)\n",
    "ax.xaxis.set_tick_params(length=0)\n",
    "ax.grid(b=True, which='major', c='w', lw=2, ls='-')\n",
    "legend = ax.legend()\n",
    "legend.get_frame().set_alpha(0.5)\n",
    "for spine in ('top', 'right', 'bottom', 'left'):\n",
    "    ax.spines[spine].set_visible(False)\n",
    "plt.show()"
   ]
  }
 ],
 "metadata": {
  "kernelspec": {
   "display_name": "Python 3",
   "language": "python",
   "name": "python3"
  },
  "language_info": {
   "codemirror_mode": {
    "name": "ipython",
    "version": 3
   },
   "file_extension": ".py",
   "mimetype": "text/x-python",
   "name": "python",
   "nbconvert_exporter": "python",
   "pygments_lexer": "ipython3",
   "version": "3.7.0"
  }
 },
 "nbformat": 4,
 "nbformat_minor": 2
}
